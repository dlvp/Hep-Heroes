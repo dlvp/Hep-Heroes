{
 "cells": [
  {
   "cell_type": "code",
   "execution_count": 1,
   "metadata": {
    "collapsed": true
   },
   "outputs": [],
   "source": [
    "#%matplotlib inline\n",
    "\n",
    "import pylab\n",
    "\n",
    "import xml.etree.ElementTree as ET\n",
    "import json\n",
    "import os\n",
    "import pandas as pd\n",
    "import re\n",
    "import numpy as np\n",
    "\n",
    "import matplotlib\n",
    "\n",
    "import matplotlib.pyplot as plt\n",
    "import seaborn as sns\n",
    "\n",
    "plt.style.use('seaborn-white')\n",
    "\n",
    "pylab.ion()"
   ]
  },
  {
   "cell_type": "markdown",
   "metadata": {},
   "source": [
    "<h1> Read INSPIRE and HEPNAMES </h1>"
   ]
  },
  {
   "cell_type": "markdown",
   "metadata": {},
   "source": [
    "Read INSPIREjson and HEPNAMESjson. In both case the 'item' entry is in integer format. Turn it to unicode, as this is the format in other part of the table."
   ]
  },
  {
   "cell_type": "code",
   "execution_count": 2,
   "metadata": {
    "collapsed": true
   },
   "outputs": [],
   "source": [
    "df=pd.read_json('INSPIREjson')\n",
    "data=df.copy()"
   ]
  },
  {
   "cell_type": "code",
   "execution_count": 3,
   "metadata": {
    "collapsed": true
   },
   "outputs": [],
   "source": [
    "data.sort_index(inplace=True)\n",
    "data.item = data.item.astype(unicode)"
   ]
  },
  {
   "cell_type": "code",
   "execution_count": 5,
   "metadata": {
    "collapsed": true
   },
   "outputs": [],
   "source": [
    "df_names=pd.read_json('HEPNAMESjson')\n",
    "data_names=df_names.copy()"
   ]
  },
  {
   "cell_type": "code",
   "execution_count": 6,
   "metadata": {
    "collapsed": true
   },
   "outputs": [],
   "source": [
    "data_names.sort_index(inplace=True)\n",
    "data_names.item = data_names.item.astype(unicode)"
   ]
  },
  {
   "cell_type": "markdown",
   "metadata": {},
   "source": [
    "Show some example"
   ]
  },
  {
   "cell_type": "code",
   "execution_count": 45,
   "metadata": {},
   "outputs": [
    {
     "data": {
      "text/html": [
       "<div>\n",
       "<style>\n",
       "    .dataframe thead tr:only-child th {\n",
       "        text-align: right;\n",
       "    }\n",
       "\n",
       "    .dataframe thead th {\n",
       "        text-align: left;\n",
       "    }\n",
       "\n",
       "    .dataframe tbody tr th {\n",
       "        vertical-align: top;\n",
       "    }\n",
       "</style>\n",
       "<table border=\"1\" class=\"dataframe\">\n",
       "  <thead>\n",
       "    <tr style=\"text-align: right;\">\n",
       "      <th></th>\n",
       "      <th>authors</th>\n",
       "      <th>cat</th>\n",
       "      <th>item</th>\n",
       "      <th>refs</th>\n",
       "      <th>title</th>\n",
       "      <th>year</th>\n",
       "    </tr>\n",
       "  </thead>\n",
       "  <tbody>\n",
       "    <tr>\n",
       "      <th>0</th>\n",
       "      <td>[]</td>\n",
       "      <td>0</td>\n",
       "      <td>1</td>\n",
       "      <td>[1256272, 1256272, 51394]</td>\n",
       "      <td>Isoclinic N planes in Euclidean 2N space, Clif...</td>\n",
       "      <td>2001</td>\n",
       "    </tr>\n",
       "  </tbody>\n",
       "</table>\n",
       "</div>"
      ],
      "text/plain": [
       "  authors cat item                       refs  \\\n",
       "0      []   0    1  [1256272, 1256272, 51394]   \n",
       "\n",
       "                                               title  year  \n",
       "0  Isoclinic N planes in Euclidean 2N space, Clif...  2001  "
      ]
     },
     "execution_count": 45,
     "metadata": {},
     "output_type": "execute_result"
    }
   ],
   "source": [
    "data.head(1)"
   ]
  },
  {
   "cell_type": "code",
   "execution_count": 46,
   "metadata": {},
   "outputs": [
    {
     "data": {
      "text/html": [
       "<div>\n",
       "<style>\n",
       "    .dataframe thead tr:only-child th {\n",
       "        text-align: right;\n",
       "    }\n",
       "\n",
       "    .dataframe thead th {\n",
       "        text-align: left;\n",
       "    }\n",
       "\n",
       "    .dataframe tbody tr th {\n",
       "        vertical-align: top;\n",
       "    }\n",
       "</style>\n",
       "<table border=\"1\" class=\"dataframe\">\n",
       "  <thead>\n",
       "    <tr style=\"text-align: right;\">\n",
       "      <th></th>\n",
       "      <th>author</th>\n",
       "      <th>item</th>\n",
       "    </tr>\n",
       "  </thead>\n",
       "  <tbody>\n",
       "    <tr>\n",
       "      <th>0</th>\n",
       "      <td>Zyskin, Maxim V.</td>\n",
       "      <td>981872</td>\n",
       "    </tr>\n",
       "  </tbody>\n",
       "</table>\n",
       "</div>"
      ],
      "text/plain": [
       "             author    item\n",
       "0  Zyskin, Maxim V.  981872"
      ]
     },
     "execution_count": 46,
     "metadata": {},
     "output_type": "execute_result"
    }
   ],
   "source": [
    "data_names.head(1)"
   ]
  },
  {
   "cell_type": "markdown",
   "metadata": {},
   "source": [
    "<h1> Build citation graph </h1>"
   ]
  },
  {
   "cell_type": "markdown",
   "metadata": {},
   "source": [
    "Build the citation graph, to be used to calculate the PageRank"
   ]
  },
  {
   "cell_type": "code",
   "execution_count": null,
   "metadata": {
    "collapsed": true
   },
   "outputs": [],
   "source": [
    "list_item=data['item'].tolist()\n",
    "list_item_U=[unicode(i) for i in list_item]\n",
    "list_cit=data['refs'].tolist()\n",
    "cit_graph=dict(zip(list_item_U,list_cit))\n",
    "with open('cit_graph.json', 'w') as f:\n",
    "    json.dump(cit_graph, f)"
   ]
  },
  {
   "cell_type": "markdown",
   "metadata": {},
   "source": [
    "<h1> Manipulations </h1>"
   ]
  },
  {
   "cell_type": "code",
   "execution_count": 9,
   "metadata": {},
   "outputs": [],
   "source": [
    "data_HEP=data[data['cat'].isin(['hep-ph','hep-th'])]"
   ]
  },
  {
   "cell_type": "markdown",
   "metadata": {},
   "source": [
    "List of unique HEP authors"
   ]
  },
  {
   "cell_type": "code",
   "execution_count": 10,
   "metadata": {
    "collapsed": true
   },
   "outputs": [],
   "source": [
    "temp=data_HEP['authors'].tolist()\n",
    "unique_authors = [item for sublist in temp for item in sublist]\n",
    "unique_authors = set(unique_authors)"
   ]
  },
  {
   "cell_type": "code",
   "execution_count": 41,
   "metadata": {},
   "outputs": [
    {
     "name": "stdout",
     "output_type": "stream",
     "text": [
      "Number of unique authors:  25788\n"
     ]
    }
   ],
   "source": [
    "print 'Number of unique authors: ', len(unique_authors)"
   ]
  },
  {
   "cell_type": "markdown",
   "metadata": {},
   "source": [
    "List of unique HEP young authors"
   ]
  },
  {
   "cell_type": "code",
   "execution_count": 12,
   "metadata": {
    "collapsed": true
   },
   "outputs": [],
   "source": [
    "data_HEP_old=data_HEP[data_HEP['year']<2006]\n",
    "temp=data_HEP_old['authors'].tolist()\n",
    "unique_authors_old = [item for sublist in temp for item in sublist]\n",
    "unique_authors_old = set(unique_authors_old)\n",
    "unique_authors_young = [x for x in unique_authors if x not in unique_authors_old]\n",
    "s_young=set(unique_authors_young)"
   ]
  },
  {
   "cell_type": "code",
   "execution_count": 42,
   "metadata": {},
   "outputs": [
    {
     "name": "stdout",
     "output_type": "stream",
     "text": [
      "Number of unique young authors:  10983\n"
     ]
    }
   ],
   "source": [
    "print 'Number of unique young authors: ', len(unique_authors_young)"
   ]
  },
  {
   "cell_type": "markdown",
   "metadata": {},
   "source": [
    "Define 'data_HEP_young' to keep only papers in data_HEP written by at least one young author."
   ]
  },
  {
   "cell_type": "code",
   "execution_count": 14,
   "metadata": {
    "collapsed": true
   },
   "outputs": [],
   "source": [
    "lista_HEP_auth=data_HEP['authors'].tolist()\n",
    "mask=[set(i).intersection(s_young)!=set() for i in lista_HEP_auth]\n",
    "data_HEP_young=data_HEP.copy()\n",
    "data_HEP_young=data_HEP_young[mask]"
   ]
  },
  {
   "cell_type": "markdown",
   "metadata": {},
   "source": [
    "Calculate the number of citations for any paper in 'data_HEP_young'."
   ]
  },
  {
   "cell_type": "code",
   "execution_count": 15,
   "metadata": {
    "collapsed": true
   },
   "outputs": [],
   "source": [
    "#Papers in HEP_young\n",
    "lista_HEP_young_papers=data_HEP_young['item'].tolist()\n",
    "#Papers on arxiv\n",
    "lista_papers=data['item'].tolist()"
   ]
  },
  {
   "cell_type": "code",
   "execution_count": 16,
   "metadata": {
    "collapsed": true
   },
   "outputs": [],
   "source": [
    "#references on arxiv\n",
    "reflist=data['refs'].tolist()\n",
    "reflist=[item for sublist in reflist for item in sublist]"
   ]
  },
  {
   "cell_type": "code",
   "execution_count": 17,
   "metadata": {},
   "outputs": [
    {
     "name": "stdout",
     "output_type": "stream",
     "text": [
      "Total number of references:  23111089\n"
     ]
    }
   ],
   "source": [
    "print 'Total number of references: ' , len(reflist)"
   ]
  },
  {
   "cell_type": "code",
   "execution_count": 18,
   "metadata": {
    "collapsed": true
   },
   "outputs": [],
   "source": [
    "from collections import Counter"
   ]
  },
  {
   "cell_type": "code",
   "execution_count": 19,
   "metadata": {
    "collapsed": true
   },
   "outputs": [],
   "source": [
    "cites_count=Counter(reflist)"
   ]
  },
  {
   "cell_type": "markdown",
   "metadata": {},
   "source": [
    "Construct the number of citations per paper and the normalized (to the number of authors) citations per paper."
   ]
  },
  {
   "cell_type": "code",
   "execution_count": 20,
   "metadata": {
    "collapsed": true
   },
   "outputs": [],
   "source": [
    "cites=[cites_count[i] for i in lista_HEP_young_papers]\n",
    "data_HEP_young= data_HEP_young.assign(cites=pd.Series(cites).values)\n",
    "#Divide by number of authors per paper\n",
    "num_authors_HEP_young_papers=data_HEP_young['authors'].apply(len).tolist()\n",
    "cites_N=[cites_count[str(lista_HEP_young_papers[i])]*1.0/num_authors_HEP_young_papers[i]\\\n",
    "             for i in range(len(lista_HEP_young_papers))]\n",
    "data_HEP_young= data_HEP_young.assign(cites_N=pd.Series(cites_N).values)"
   ]
  },
  {
   "cell_type": "markdown",
   "metadata": {},
   "source": [
    "Papers per author"
   ]
  },
  {
   "cell_type": "code",
   "execution_count": 21,
   "metadata": {},
   "outputs": [],
   "source": [
    "authorship_young=data_HEP_young['authors'].tolist()\n",
    "authorship_young=[item for sublist in authorship_young for item in sublist]\n",
    "authorship_count_young=Counter(authorship_young)"
   ]
  },
  {
   "cell_type": "code",
   "execution_count": 22,
   "metadata": {
    "collapsed": true
   },
   "outputs": [],
   "source": [
    "data_authors=pd.Series(unique_authors_young).to_frame(name='authorID')\n",
    "num_papers=[authorship_count_young[i] for i in unique_authors_young]\n",
    "data_authors= data_authors.assign(n_papers=pd.Series(num_papers).values)"
   ]
  },
  {
   "cell_type": "markdown",
   "metadata": {},
   "source": [
    "Append name to author ID"
   ]
  },
  {
   "cell_type": "code",
   "execution_count": 23,
   "metadata": {},
   "outputs": [],
   "source": [
    "map_names=pd.Series(data_names.author.values,index=data_names.item).to_dict()\n",
    "data_authors['name']=data_authors['authorID'].map(map_names)\n",
    "lastnames=data_authors['name'].tolist()\n",
    "lastnames=[lastnames[i].split(',')[0] for i in range(len(lastnames))]\n",
    "data_authors = data_authors.assign(lastname=pd.Series(lastnames).values)"
   ]
  },
  {
   "cell_type": "markdown",
   "metadata": {},
   "source": [
    "<h1> PageRank </h1>"
   ]
  },
  {
   "cell_type": "markdown",
   "metadata": {},
   "source": [
    "Read the PageRank of every paper in 'data_HEP_young', calculated using PageRankCentrality function in Mathematica. The author PageRank is the sum of individual papers PageRanks, normalized to the number of authors, and normalized to the total number of papers on 'data_HEP_young'. It is also multiplied by an arbitrary constant C=10^5."
   ]
  },
  {
   "cell_type": "code",
   "execution_count": 26,
   "metadata": {},
   "outputs": [
    {
     "name": "stderr",
     "output_type": "stream",
     "text": [
      "/anaconda/envs/dataweekends/lib/python2.7/site-packages/IPython/core/interactiveshell.py:2717: DtypeWarning: Columns (0) have mixed types. Specify dtype option on import or set low_memory=False.\n",
      "  interactivity=interactivity, compiler=compiler, result=result)\n"
     ]
    }
   ],
   "source": [
    "Cg85=pd.read_csv(\"result85.csv\")\n",
    "Cg50=pd.read_csv(\"result50.csv\")\n",
    "pagerank_papers85=pd.Series(Cg85.pagerank85.values,index=Cg85.PaperID.apply(unicode)).to_dict()\n",
    "pagerank_papers50=pd.Series(Cg50.pagerank50.values,index=Cg50.PaperID.apply(unicode)).to_dict()"
   ]
  },
  {
   "cell_type": "code",
   "execution_count": 31,
   "metadata": {},
   "outputs": [],
   "source": [
    "#Divide by number of authors per paper\n",
    "num_authors_HEP_young_papers=data_HEP_young['authors'].apply(len).tolist()\n",
    "#85\n",
    "pagerank85=[pagerank_papers85[str(i)] for i in lista_HEP_young_papers]\n",
    "tot_pagerunk85_young=np.sum(pagerank85)\n",
    "pagerank85_N=[pagerank_papers85[str(lista_HEP_young_papers[i])]*1.0e5/\\\n",
    "              (num_authors_HEP_young_papers[i]*tot_pagerunk85_young) for i in range(len(lista_HEP_young_papers))]\n",
    "data_HEP_young= data_HEP_young.assign(pagerank85_N=pd.Series(pagerank85_N).values)\n",
    "#50\n",
    "pagerank50=[pagerank_papers50[str(lista_HEP_young_papers[i])] for i in range(len(lista_HEP_young_papers))]\n",
    "tot_pagerunk50_young=np.sum(pagerank50)\n",
    "pagerank50_N=[pagerank_papers50[str(lista_HEP_young_papers[i])]*1.0e5/\\\n",
    "              (num_authors_HEP_young_papers[i]*tot_pagerunk50_young) for i in range(len(lista_HEP_young_papers))]\n",
    "data_HEP_young= data_HEP_young.assign(pagerank50_N=pd.Series(pagerank50_N).values)"
   ]
  },
  {
   "cell_type": "markdown",
   "metadata": {},
   "source": [
    "To extract total citations and H-index: unroll authors and citations of papers"
   ]
  },
  {
   "cell_type": "code",
   "execution_count": 33,
   "metadata": {},
   "outputs": [],
   "source": [
    "#To extract total citations and H-index: unroll authors and citations of papers\n",
    "data_HY_cites=data_HEP_young[['authors','cites','cites_N','pagerank85_N','pagerank50_N','year']]\n",
    "temp = data_HY_cites.authors.apply(pd.Series).unstack()\n",
    "data_HY_cites = data_HY_cites.join(pd.DataFrame(temp.reset_index(level=0, drop=True)))\n",
    "data_HY_cites.rename(columns={0: 'author'}, inplace=True)\n",
    "data_HY_cites.dropna(subset=['author'], inplace=True)\n",
    "data_HY_cites = data_HY_cites.drop('authors', 1)"
   ]
  },
  {
   "cell_type": "markdown",
   "metadata": {},
   "source": [
    "<h1> h-Index </h1>"
   ]
  },
  {
   "cell_type": "markdown",
   "metadata": {},
   "source": [
    "Calculate the h-Index of every young author A as the maximum N for which the following holds: A has N papers each of which is cited at least N times."
   ]
  },
  {
   "cell_type": "code",
   "execution_count": 34,
   "metadata": {
    "collapsed": true
   },
   "outputs": [],
   "source": [
    "def hIndex(citations):\n",
    "    citations.sort(reverse=True)\n",
    "    return max([min(k+1, v) for k,v in enumerate(citations)]) if citations else 0"
   ]
  },
  {
   "cell_type": "code",
   "execution_count": 35,
   "metadata": {
    "collapsed": true
   },
   "outputs": [],
   "source": [
    "#H-index\n",
    "H_series=data_HY_cites.groupby('author').cites.apply(list).apply(hIndex)[data_authors['authorID']]\n",
    "data_authors= data_authors.assign(H_index=pd.Series(H_series.tolist()).values)"
   ]
  },
  {
   "cell_type": "markdown",
   "metadata": {},
   "source": [
    "<h1> Put everything together </h1>"
   ]
  },
  {
   "cell_type": "code",
   "execution_count": 36,
   "metadata": {
    "collapsed": true
   },
   "outputs": [],
   "source": [
    "#total  citations\n",
    "cites_series=data_HY_cites.groupby('author')['cites'].sum()[data_authors['authorID']]\n",
    "data_authors= data_authors.assign(cites=pd.Series(cites_series.tolist()).values)\n",
    "#total  citations normalized\n",
    "cites_N_series=data_HY_cites.groupby('author')['cites_N'].sum()[data_authors['authorID']]\n",
    "data_authors= data_authors.assign(cites_N=pd.Series(cites_N_series.tolist()).values)\n",
    "#pagerank75\n",
    "pagerank85_series=data_HY_cites.groupby('author')['pagerank85_N'].sum()[data_authors['authorID']]\n",
    "data_authors= data_authors.assign(pagerank85=pd.Series(pagerank85_series.tolist()).values)\n",
    "#pagerank50\n",
    "pagerank50_series=data_HY_cites.groupby('author')['pagerank50_N'].sum()[data_authors['authorID']]\n",
    "data_authors= data_authors.assign(pagerank50=pd.Series(pagerank50_series.tolist()).values)"
   ]
  },
  {
   "cell_type": "markdown",
   "metadata": {},
   "source": [
    "Example"
   ]
  },
  {
   "cell_type": "code",
   "execution_count": 44,
   "metadata": {},
   "outputs": [
    {
     "data": {
      "text/html": [
       "<div>\n",
       "<style>\n",
       "    .dataframe thead tr:only-child th {\n",
       "        text-align: right;\n",
       "    }\n",
       "\n",
       "    .dataframe thead th {\n",
       "        text-align: left;\n",
       "    }\n",
       "\n",
       "    .dataframe tbody tr th {\n",
       "        vertical-align: top;\n",
       "    }\n",
       "</style>\n",
       "<table border=\"1\" class=\"dataframe\">\n",
       "  <thead>\n",
       "    <tr style=\"text-align: right;\">\n",
       "      <th></th>\n",
       "      <th>authorID</th>\n",
       "      <th>n_papers</th>\n",
       "      <th>name</th>\n",
       "      <th>lastname</th>\n",
       "      <th>H_index</th>\n",
       "      <th>cites</th>\n",
       "      <th>cites_N</th>\n",
       "      <th>pagerank85</th>\n",
       "      <th>pagerank50</th>\n",
       "    </tr>\n",
       "  </thead>\n",
       "  <tbody>\n",
       "    <tr>\n",
       "      <th>0</th>\n",
       "      <td>988539</td>\n",
       "      <td>1</td>\n",
       "      <td>Sinnis, Constantine</td>\n",
       "      <td>Sinnis</td>\n",
       "      <td>1</td>\n",
       "      <td>3</td>\n",
       "      <td>0.056604</td>\n",
       "      <td>0.027979</td>\n",
       "      <td>0.034396</td>\n",
       "    </tr>\n",
       "    <tr>\n",
       "      <th>1</th>\n",
       "      <td>999759</td>\n",
       "      <td>2</td>\n",
       "      <td>Martinez, Domingo Louis</td>\n",
       "      <td>Martinez</td>\n",
       "      <td>1</td>\n",
       "      <td>4</td>\n",
       "      <td>4.000000</td>\n",
       "      <td>3.223412</td>\n",
       "      <td>3.829613</td>\n",
       "    </tr>\n",
       "    <tr>\n",
       "      <th>2</th>\n",
       "      <td>1498218</td>\n",
       "      <td>2</td>\n",
       "      <td>Caputo, Andrea</td>\n",
       "      <td>Caputo</td>\n",
       "      <td>1</td>\n",
       "      <td>4</td>\n",
       "      <td>1.083333</td>\n",
       "      <td>0.888997</td>\n",
       "      <td>1.081584</td>\n",
       "    </tr>\n",
       "    <tr>\n",
       "      <th>3</th>\n",
       "      <td>1498216</td>\n",
       "      <td>2</td>\n",
       "      <td>Faroughy, Darius</td>\n",
       "      <td>Faroughy</td>\n",
       "      <td>2</td>\n",
       "      <td>27</td>\n",
       "      <td>8.833333</td>\n",
       "      <td>1.018512</td>\n",
       "      <td>1.170332</td>\n",
       "    </tr>\n",
       "    <tr>\n",
       "      <th>4</th>\n",
       "      <td>1498217</td>\n",
       "      <td>2</td>\n",
       "      <td>Tezuka, Masaki</td>\n",
       "      <td>Tezuka</td>\n",
       "      <td>1</td>\n",
       "      <td>46</td>\n",
       "      <td>5.111111</td>\n",
       "      <td>0.815815</td>\n",
       "      <td>0.915048</td>\n",
       "    </tr>\n",
       "  </tbody>\n",
       "</table>\n",
       "</div>"
      ],
      "text/plain": [
       "  authorID  n_papers                     name  lastname  H_index  cites  \\\n",
       "0   988539         1      Sinnis, Constantine    Sinnis        1      3   \n",
       "1   999759         2  Martinez, Domingo Louis  Martinez        1      4   \n",
       "2  1498218         2           Caputo, Andrea    Caputo        1      4   \n",
       "3  1498216         2         Faroughy, Darius  Faroughy        2     27   \n",
       "4  1498217         2           Tezuka, Masaki    Tezuka        1     46   \n",
       "\n",
       "    cites_N  pagerank85  pagerank50  \n",
       "0  0.056604    0.027979    0.034396  \n",
       "1  4.000000    3.223412    3.829613  \n",
       "2  1.083333    0.888997    1.081584  \n",
       "3  8.833333    1.018512    1.170332  \n",
       "4  5.111111    0.815815    0.915048  "
      ]
     },
     "execution_count": 44,
     "metadata": {},
     "output_type": "execute_result"
    }
   ],
   "source": [
    "data_authors.head(5)"
   ]
  },
  {
   "cell_type": "markdown",
   "metadata": {},
   "source": [
    "<h1> Save results </h1>"
   ]
  },
  {
   "cell_type": "markdown",
   "metadata": {},
   "source": [
    "Save the results to a csv file."
   ]
  },
  {
   "cell_type": "code",
   "execution_count": null,
   "metadata": {
    "collapsed": true
   },
   "outputs": [],
   "source": [
    "data_authors.to_csv('results_authors',encoding='utf-8')"
   ]
  }
 ],
 "metadata": {
  "kernelspec": {
   "display_name": "Python 2",
   "language": "python",
   "name": "python2"
  },
  "language_info": {
   "codemirror_mode": {
    "name": "ipython",
    "version": 2
   },
   "file_extension": ".py",
   "mimetype": "text/x-python",
   "name": "python",
   "nbconvert_exporter": "python",
   "pygments_lexer": "ipython2",
   "version": "2.7.13"
  }
 },
 "nbformat": 4,
 "nbformat_minor": 2
}
